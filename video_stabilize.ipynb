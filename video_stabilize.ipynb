{
  "nbformat": 4,
  "nbformat_minor": 0,
  "metadata": {
    "kernelspec": {
      "name": "python3",
      "display_name": "Python 3"
    },
    "language_info": {
      "codemirror_mode": {
        "name": "ipython",
        "version": 3
      },
      "file_extension": ".py",
      "mimetype": "text/x-python",
      "name": "python",
      "nbconvert_exporter": "python",
      "pygments_lexer": "ipython3",
      "version": "3.7.4"
    },
    "colab": {
      "name": "video_stabilize.ipynb",
      "provenance": [],
      "collapsed_sections": [],
      "machine_shape": "hm",
      "include_colab_link": true
    },
    "accelerator": "GPU"
  },
  "cells": [
    {
      "cell_type": "markdown",
      "metadata": {
        "id": "view-in-github",
        "colab_type": "text"
      },
      "source": [
        "<a href=\"https://colab.research.google.com/github/the-rennegade/video_restoration/blob/main/video_stabilize.ipynb\" target=\"_parent\"><img src=\"https://colab.research.google.com/assets/colab-badge.svg\" alt=\"Open In Colab\"/></a>"
      ]
    },
    {
      "cell_type": "markdown",
      "metadata": {
        "id": "sdrdDM3tHrEq"
      },
      "source": [
        "This note book will conduct video stabilization."
      ]
    },
    {
      "cell_type": "code",
      "metadata": {
        "cellView": "form",
        "id": "dbN5gBL4H727"
      },
      "source": [
        "#@markdown ## Input file\n",
        "#@markdown Path (relative to the root of your Google Drive) to the input file. For instance, if you save your `example.mkv` file in your Google Drive, inside a `videos` folder, the path would be: `videos/example.mkv`. Currenly videos and gifs are supported.\n",
        "INPUT_FILEPATH = \"video_work/vienna_tram_1906/\" #@param{type:\"string\"}\n",
        "\n",
        "#@markdown ## Input filename\n",
        "INPUT_FILE_NAME = \"vienna_tram_1906-source.mp4\" #@param{type:\"string\"}\n",
        "\n",
        "#@markdown ## Output file\n",
        "#@markdown Output file path: path (relative to the root of your Google Drive) for the output file. It will also determine the filetype in the destination. `.mp4` is recommended for video input, `.gif` for gif inputs.\n",
        "OUTPUT_FILE_PATH = \"video_work/vienna_tram_1906/\" #@param{type:\"string\"}\n",
        "\n",
        "#@markdown ## Output filename\n",
        "OUTPUT_FILE_NAME = \"vienna_tram_1906-stablize.mp4\" #@param{type:\"string\"}\n"
      ],
      "execution_count": null,
      "outputs": []
    },
    {
      "cell_type": "code",
      "metadata": {
        "id": "CwhpbAKcUNES"
      },
      "source": [
        "#Connect to google drive\n",
        "from google.colab import drive\n",
        "drive.mount('/content/drive', force_remount=True)"
      ],
      "execution_count": null,
      "outputs": []
    },
    {
      "cell_type": "code",
      "metadata": {
        "id": "duGErv7dUHD7"
      },
      "source": [
        "#Install vidstab\n",
        "!pip install vidstab"
      ],
      "execution_count": null,
      "outputs": []
    },
    {
      "cell_type": "code",
      "metadata": {
        "id": "xzTD7bqMUHED"
      },
      "source": [
        "#Import vidstab\n",
        "from vidstab import VidStab"
      ],
      "execution_count": null,
      "outputs": []
    },
    {
      "cell_type": "code",
      "metadata": {
        "id": "eroiZ7pcU9Sd"
      },
      "source": [
        "#Copy video down from gdrive\n",
        "%mkdir /content/source\n",
        "%mkdir /content/stabilized\n",
        "%cp /content/drive/MyDrive/{INPUT_FILEPATH}{INPUT_FILE_NAME} /content/source/"
      ],
      "execution_count": null,
      "outputs": []
    },
    {
      "cell_type": "code",
      "metadata": {
        "id": "QYQykKCMUHEH"
      },
      "source": [
        "# Using defaults\n",
        "stabilizer = VidStab()\n",
        "stabilizer.stabilize(input_path='/content/source/'+INPUT_FILE_NAME, output_path='/content/stabilized/'+OUTPUT_FILE_NAME)\n",
        "print(OUTPUT_FILE_NAME,'stabilized')"
      ],
      "execution_count": null,
      "outputs": []
    },
    {
      "cell_type": "code",
      "metadata": {
        "id": "6Ii4Rcyf5zw0"
      },
      "source": [
        "#Copy back to gdrive\n",
        "%cp /content/stabilized/{OUTPUT_FILE_NAME} /content/drive/MyDrive/{OUTPUT_FILE_PATH}"
      ],
      "execution_count": null,
      "outputs": []
    }
  ]
}