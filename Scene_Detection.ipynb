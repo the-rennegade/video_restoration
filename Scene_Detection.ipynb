{
  "nbformat": 4,
  "nbformat_minor": 0,
  "metadata": {
    "kernelspec": {
      "display_name": "Python 3",
      "language": "python",
      "name": "python3"
    },
    "language_info": {
      "codemirror_mode": {
        "name": "ipython",
        "version": 3
      },
      "file_extension": ".py",
      "mimetype": "text/x-python",
      "name": "python",
      "nbconvert_exporter": "python",
      "pygments_lexer": "ipython3",
      "version": "3.7.4"
    },
    "colab": {
      "name": "Scene_Detection.ipynb",
      "provenance": [],
      "collapsed_sections": []
    }
  },
  "cells": [
    {
      "cell_type": "code",
      "metadata": {
        "id": "pZ7woMyMjyJJ"
      },
      "source": [
        "from google.colab import drive\n",
        "drive.mount('/content/drive')"
      ],
      "execution_count": null,
      "outputs": []
    },
    {
      "cell_type": "code",
      "metadata": {
        "id": "yrKQgdsdjoID"
      },
      "source": [
        "!pip install scenedetect"
      ],
      "execution_count": null,
      "outputs": []
    },
    {
      "cell_type": "code",
      "metadata": {
        "id": "7WTlre1rjoH9"
      },
      "source": [
        "from __future__ import print_function\n",
        "import os\n",
        "\n",
        "import scenedetect\n",
        "from scenedetect.video_manager import VideoManager\n",
        "from scenedetect.scene_manager import SceneManager\n",
        "from scenedetect.frame_timecode import FrameTimecode\n",
        "from scenedetect.stats_manager import StatsManager\n",
        "from scenedetect.detectors import ContentDetector"
      ],
      "execution_count": null,
      "outputs": []
    },
    {
      "cell_type": "code",
      "metadata": {
        "id": "ZmLoz8BfjoIK"
      },
      "source": [
        "def detect():\n",
        "\n",
        "    # Create a video_manager point to video file testvideo.mp4. Note that multiple\n",
        "    # videos can be appended by simply specifying more file paths in the list\n",
        "    # passed to the VideoManager constructor. Note that appending multiple videos\n",
        "    # requires that they all have the same frame size, and optionally, framerate.\n",
        "    video_manager = VideoManager(['vid/'+folder+'/'+vid])\n",
        "    stats_manager = StatsManager()\n",
        "    scene_manager = SceneManager(stats_manager)\n",
        "    # Add ContentDetector algorithm (constructor takes detector options like threshold).\n",
        "    scene_manager.add_detector(ContentDetector())\n",
        "    base_timecode = video_manager.get_base_timecode()\n",
        "\n",
        "    try:\n",
        "        # If stats file exists, load it.\n",
        "        if os.path.exists(STATS_FILE_PATH):\n",
        "            # Read stats from CSV file opened in read mode:\n",
        "            with open(STATS_FILE_PATH, 'r') as stats_file:\n",
        "                stats_manager.load_from_csv(stats_file, base_timecode)\n",
        "\n",
        "        start_time = base_timecode + 20     # 00:00:00.667\n",
        "        end_time = base_timecode + 20.0     # 00:00:20.000\n",
        "        # Set video_manager duration to read frames from 00:00:00 to 00:00:20.\n",
        "        video_manager.set_duration(start_time=start_time, end_time=end_time)\n",
        "\n",
        "        # Set downscale factor to improve processing speed (no args means default).\n",
        "        video_manager.set_downscale_factor()\n",
        "\n",
        "        # Start video_manager.\n",
        "        video_manager.start()\n",
        "\n",
        "        # Perform scene detection on video_manager.\n",
        "        scene_manager.detect_scenes(frame_source=video_manager)\n",
        "\n",
        "        # Obtain list of detected scenes.\n",
        "        scene_list = scene_manager.get_scene_list(base_timecode)\n",
        "        # Like FrameTimecodes, each scene in the scene_list can be sorted if the\n",
        "        # list of scenes becomes unsorted.\n",
        "\n",
        "        print('List of scenes obtained:')\n",
        "        for i, scene in enumerate(scene_list):\n",
        "            print('    Scene %2d: Start %s / Frame %d, End %s / Frame %d' % (\n",
        "                i+1,\n",
        "                scene[0].get_timecode(), scene[0].get_frames(),\n",
        "                scene[1].get_timecode(), scene[1].get_frames(),))\n",
        "\n",
        "        # We only write to the stats file if a save is required:\n",
        "        if stats_manager.is_save_required():\n",
        "            with open(STATS_FILE_PATH, 'w') as stats_file:\n",
        "                stats_manager.save_to_csv(stats_file, base_timecode)\n",
        "\n",
        "    finally:\n",
        "        video_manager.release()"
      ],
      "execution_count": null,
      "outputs": []
    },
    {
      "cell_type": "code",
      "metadata": {
        "id": "Z6hcQX5Nk6If"
      },
      "source": [
        "from os import listdir\n",
        "from os.path import isfile, join"
      ],
      "execution_count": null,
      "outputs": []
    },
    {
      "cell_type": "code",
      "metadata": {
        "id": "IaNPAojLkchR"
      },
      "source": [
        "for folder in ['2','3']:\n",
        "  %cd {'\"//content/drive/My Drive/video_work/vienna_tram_1906/'+folder+'\"'}\n",
        "  !mkdir scenes\n",
        "  !mkdir goodscenes\n",
        "  mypath='./'\n",
        "  onlyfiles = [f for f in listdir(mypath) if isfile(join(mypath, f))]\n",
        "  for vid in onlyfiles:\n",
        "    #filter only for certain videos if you want\n",
        "    #for filt in ['szf2']:\n",
        "    # if filt in vid:\n",
        "        STATS_FILE_PATH = '/scenes/testvideo.stats-'+vid+'.csv'\n",
        "        !scenedetect -i {vid} -o ./scenes detect-content -t 27 list-scenes save-images split-video"
      ],
      "execution_count": null,
      "outputs": []
    },
    {
      "cell_type": "markdown",
      "metadata": {
        "id": "o-FudzjljoIP"
      },
      "source": [
        "Manually select and copy good scenes to `/goodscenes` for both `2` and `3`."
      ]
    }
  ]
}